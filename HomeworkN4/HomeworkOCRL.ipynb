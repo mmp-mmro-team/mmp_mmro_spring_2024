{
  "nbformat": 4,
  "nbformat_minor": 0,
  "metadata": {
    "colab": {
      "provenance": []
    },
    "kernelspec": {
      "name": "python3",
      "display_name": "Python 3"
    },
    "language_info": {
      "name": "python"
    }
  },
  "cells": [
    {
      "cell_type": "markdown",
      "source": [
        "# Машинное обучение, ВМК МГУ\n",
        "\n",
        "# Практическое задание 4. Optimal Control Reinforcement Learning\n",
        "\n",
        "## Общая информация\n",
        "Дата выдачи: 30.04.2024\n",
        "\n",
        "Мягкий дедлайн: 15.05.2024 5:30 MSK\n",
        "\n",
        "Жёсткий дедлайн: 22.05.2024 5:30 MSK\n",
        "\n",
        "## Оценивание и штрафы\n",
        "Каждая из задач имеет определенную «стоимость» (указана в скобках около задачи). **Максимальная оценка за работу  — 10 баллов.**\n",
        "\n",
        "Сдавать задание после указанного жёсткого срока сдачи нельзя. При выставлении неполного балла за задание в связи с наличием ошибок на усмотрение проверяющего предусмотрена возможность исправить работу на указанных в ответном письме условиях.\n",
        "\n",
        "Задание выполняется самостоятельно. «Похожие» решения считаются плагиатом и все задействованные студенты (в том числе те, у кого списали) не могут получить за него больше 0 баллов (подробнее о плагиате см. на странице курса). Если вы нашли решение какого-то из заданий (или его часть) в открытом источнике, необходимо указать ссылку на этот источник в отдельном блоке в конце вашей работы (скорее всего вы будете не единственным, кто это нашел, поэтому чтобы исключить подозрение в плагиате, необходима ссылка на источник).\n",
        "\n",
        "Неэффективная реализация кода может негативно отразиться на оценке.\n",
        "\n",
        "## Формат сдачи !!ВАЖНО!!!\n",
        "Задания сдаются через систему anytask. Посылка должна содержать:\n",
        "* Ноутбук homework-practice-04-ocrl-Username.ipynb\n",
        "\n",
        "\n",
        "Username — ваша фамилия и имя на латинице именно в таком порядке"
      ],
      "metadata": {
        "id": "7k51yp_QAKF_"
      }
    },
    {
      "cell_type": "markdown",
      "source": [
        "<p style=\"color:#de3815;font-size:25px;\">\n",
        "Напоминание об оформлении и выполнении ноутбука\n",
        "</p>"
      ],
      "metadata": {
        "id": "IQmLQhpJASBy"
      }
    },
    {
      "cell_type": "markdown",
      "source": [
        "* Все строчки должны быть выполнены. Нужно, чтобы output команды можно было увидеть, не запуская ячейки (кроме редких случаев, когда необходимо намеренно скрыть ненужный output, про такие случаи желательно писать пояснения в тексте). **В противном случае -1 балл**\n",
        "* При оформлении ДЗ нужно пользоваться данным файлом в качестве шаблона. Не нужно удалять и видоизменять написанный код и текст, если явно не указана такая возможность. **В противном случае -1 балл**\n",
        "* В anytask обязательно нужно прикреплять отдельно файл с расширением ipynb (не в архиве, а именно отдельно). Если необходимо отправить еще какие-то файлы, то вынесите их в отдельный архив (если файлов много) и пришлите. **В противном случае -0.5 балла**\n",
        "---\n",
        "* Пишите, пожалуйста, выводы и ответы на вопросы в текстовых ячейках/при помощи print в коде. При их отсутствии мы не можем понять, сделали ли вы задание и понимаете, что происходит, и **поэтому будем снижать баллы**\n",
        "* Если алгоритм не сказано реализовывать явно, его всегда можно импортировать из библиотеки.\n",
        "---\n",
        "* Про графики. _Штрафы будут применяться к каждому результату команды отображения графика (plt.show() и др. аналогичные). Исключением являются графики, генерируемые функциями каких-либо сторонних библиотек, если их нельзя кастомизировать_\n",
        "\n",
        "    * должно быть название (plt.title) графика; **В противном случае &ndash; -0.05 балла**\n",
        "    * на графиках должны быть подписаны оси (plt.xlabel, plt.ylabel); **В противном случае &ndash; -0.025 балла за каждую ось**\n",
        "    * должны быть подписаны единицы измерения (если это возможно); **В противном случае &ndash; -0.025 балла за каждую ось**\n",
        "    * все названия должны быть понятны любому человеку, знакомому с терминологией, без заглядывания в код; **В противном случае &ndash; -0.05 балла**\n",
        "    * подписи тиков на осях не должны сливаться как на одной оси, так и между ними; **В противном случае &ndash; -0.025 балла за каждую ось**\n",
        "    * если изображено несколько сущностей на одном холсте (например несколько функций), то необходима поясняющая легенда (plt.legend); **В противном случае &ndash; -0.05 балла**\n",
        "    * все линии на графиках должны быть чётко видны (нет похожих цветов или цветов, сливающихся с фоном); **В противном случае &ndash; -0.05 балла**\n",
        "    * если отображена величина, имеющая очевидный диапазон значений (например, проценты могут быть от 0 до 100), то желательно масштабировать ось на весь диапазон значений (исключением является случай, когда вам необходимо показать малое отличие, которое незаметно в таких масштабах);\n",
        "    * графики должны быть не супер-микро и не супер-макро по размерам, так, чтобы можно было увидеть все, что нужно.\n",
        "    * при необходимости улучшения наглядности графиков, можно пользоваться логарифмической шкалой по осям x/y.\n",
        "    \n",
        "    \n",
        "### А также..\n",
        "\n",
        "* Для удобства поиска вопросов, на которые от вас просят ответа, мы пометили их знаком **(?)**\n",
        "* Знак **(!)** означает, что выполнение замечания необходимо для **возможности получения полного балла**\n",
        "* Даем до +0.5 балла за выдающиеся успехи по субъективному мнению проверяющих. Этот **бонус** не апеллируется"
      ],
      "metadata": {
        "id": "hI5v95BDAY0J"
      }
    },
    {
      "cell_type": "markdown",
      "source": [
        "## Задание 1 (4 балла): уравнения Рикатти для управления дроном."
      ],
      "metadata": {
        "id": "-TBF5EbZJhv5"
      }
    },
    {
      "cell_type": "markdown",
      "source": [
        "Начнем с небольшой разминки: реализация классического алгоритма нахождения оптимального управления для двухмерного дрона. Его динамика уже реализована за вас в файле qudrotor.py. Кроме того, реализована также визуализация его управления.\n",
        "\n",
        "В качестве описания текущего состояния предлагается использовать вектор из 6-ти элементов [x, dx, y, dy, theta, dtheta]:\n",
        "\n",
        "*   x - координата центра дрона по x\n",
        "*   dx - скорость центра дрона по x\n",
        "*   y - координата центра дрона по y\n",
        "*   dy - скорость центра дрона по y\n",
        "*   theta - угол наклона относительно оси x\n",
        "*   dtheta - угловая скорость\n",
        "\n",
        "В качестве управления используем вектор из 2 элементов [u1, u2]:\n",
        "\n",
        "*   u1 - сила тяги левого винта\n",
        "*   u2 - сила тяги правого винта\n",
        "\n",
        "Сила измеряется в ньютонах, прикладывается перпендикулярно линии, проведенной между двумя винтами."
      ],
      "metadata": {
        "id": "emCPKgBeLRdo"
      }
    },
    {
      "cell_type": "code",
      "source": [
        "import numpy as np\n",
        "import matplotlib.pyplot as plt\n",
        "\n",
        "import quadrotor\n",
        "import math\n",
        "import sympy"
      ],
      "metadata": {
        "id": "5wNKH6TNARYy"
      },
      "execution_count": null,
      "outputs": []
    },
    {
      "cell_type": "markdown",
      "source": [
        "Зададим параметы для дальнейшей работы:"
      ],
      "metadata": {
        "id": "IcgFhulANifc"
      }
    },
    {
      "cell_type": "code",
      "execution_count": null,
      "metadata": {
        "id": "uVuTvMZhLpyt"
      },
      "outputs": [],
      "source": [
        "m = 0.6 #масса дрона\n",
        "r = 0.2 #длина дрона от левого до правого винта\n",
        "I = 0.15 #инерция\n",
        "g = 9.81 #ускорение свободного падения\n",
        "dt = 0.01 #временной шаг"
      ]
    },
    {
      "cell_type": "markdown",
      "source": [
        "**Задание 1 (0.2 балла):** для начала проверим что все хорошо работает нормально. Реализуйте две функции-контроллера и проверьте их работу. Функции должны принимать на вход текущее состояние и номер таймстепа. Выдавать функции должны управление.\n",
        "\n",
        "Первая функция должна давать команду ничего не делать (то есть всегда выдавать нулевое управление)\n",
        "\n",
        "Вторая должна заставлять дрон висеть в воздухе при условии что он появляется в правильном положении параллельно оси x."
      ],
      "metadata": {
        "id": "5dWxAXcdQ5kw"
      }
    },
    {
      "cell_type": "code",
      "source": [
        "def do_nothing_controller(state, i):\n",
        "    #ВАШ КОД ЗДЕСЬ\n",
        "    return u\n",
        "\n",
        "def stabilize_controller(state, i):\n",
        "    #ВАШ КОД ЗДЕСЬ\n",
        "    return u"
      ],
      "metadata": {
        "id": "NEsonLqUlbOM"
      },
      "execution_count": null,
      "outputs": []
    },
    {
      "cell_type": "markdown",
      "source": [
        "Проверим реализации. В первом случае дрон должен падать вниз, во втором - висеть в точке (0, 0)."
      ],
      "metadata": {
        "id": "I7FaRCHFXct4"
      }
    },
    {
      "cell_type": "code",
      "source": [
        "N = 1000\n",
        "x0 = np.zeros([quadrotor.NUMBER_STATES,])\n",
        "t, x, u = quadrotor.simulate(x0, do_nothing_controller, N, disturbance = False)\n",
        "\n",
        "quadrotor.animate_robot(x, u)"
      ],
      "metadata": {
        "id": "Yan-TZrJqacA"
      },
      "execution_count": null,
      "outputs": []
    },
    {
      "cell_type": "code",
      "source": [
        "N = 1000\n",
        "x0 = np.zeros([quadrotor.NUMBER_STATES,])\n",
        "t, x, u = quadrotor.simulate(x0, stabilize_controller, N, disturbance = False)\n",
        "\n",
        "quadrotor.animate_robot(x, u)"
      ],
      "metadata": {
        "id": "WwKaWK3wlFQ5"
      },
      "execution_count": null,
      "outputs": []
    },
    {
      "cell_type": "markdown",
      "source": [
        "**Задание 2 (1.5 баллов):**Как вы помните, уравнения Рикатти как и базовый алгоритм ПМП удобнее всего реализовывать для задачи типа LQR. Однако, она имеет 2 требования, которые не выполняются в нашей задаче.\n",
        "\n",
        "Требование 1: динамика должна выглядеть следующим образом:\n",
        "$x_{k+1} = Ax_k + Bu_k$.\n",
        "\n",
        "Требование 2: функция потерь должна выглядеть следующим образом:\n",
        "$cost(x,u) = x^TQx + uRu$\n",
        "\n",
        "\n",
        "Для нашей задачи выписать подобные матрицы в общем случае невозможно. Попробуем нашу динамику аппроксимировать линейной в каждой точке.\n",
        "\n",
        "Требование 2 не выполняется, так как нам в теории хочется чтобы дрон оказался в конкретной точке. То есть, хочется минимизировать такой лосс: $cost(x,u) = (x-x^*)^TQ(x-x^*) + (u-u^*)^TR(u-u^*)$. Самый простой выход в нашем случае - решать задачу в терминах расстояний до конечной точки (то есть, новый вектор наблюдений - $\\overline{x} = (x-x^*), \\overline{u}=(u-u^*)$\n",
        "\n",
        "1. Выпишите аппроксимацию функции (пока без А и В, просто через приращения) $f(x,u)$, где $x_{n+1} = f(x_n, u_n)$. Keywords: второй закон Ньютона, линейное и угловое ускорение стержня, здравый смысл\n",
        "\n",
        "2. С помощью разложения в ряд Тейлора в окрестности $x^*, u^*$ выведите функцию $\\overline{f}: \\overline{x}_{n+1} = \\overline{f}(\\overline{x}_{n}, \\overline{u}_{n}) = A\\overline{x}_{n} + B\\overline{u}_{n}$\n",
        "\n",
        "3. Запрограммируйте подсчет этих матриц"
      ],
      "metadata": {
        "id": "t87blKMYYLnu"
      }
    },
    {
      "cell_type": "code",
      "source": [
        "def get_linearization(z, u):\n",
        "    m = 0.6 #масса\n",
        "    r = 0.2 #длина\n",
        "    I = 0.15 #инерция\n",
        "    g = 9.81 #ускорение свободного падения\n",
        "    dt = 0.01 #временной промежуток\n",
        "\n",
        "    A = #ваш код здесь\n",
        "    B = #ваш код здесь\n",
        "    return A,B"
      ],
      "metadata": {
        "id": "7Lf_QWcXqf7x"
      },
      "execution_count": null,
      "outputs": []
    },
    {
      "cell_type": "markdown",
      "source": [
        "**Задание 2. (0.3 балла)**: теперь перейдем к оптимизируемому функционалу. На семинаре рассматривался функционал как сумма функций потерь для каждой точки.\n",
        "\n",
        "Не забываем что для удобства вычислений задача решается для относительных состояний и управлений\n",
        "\n",
        "\n",
        "Ограничим рассматриваемый горизонт 1000 шагами и сгенерируем целевые состояния для каждого момента времени"
      ],
      "metadata": {
        "id": "iiziQoYteq0p"
      }
    },
    {
      "cell_type": "code",
      "source": [
        "from copy import copy"
      ],
      "metadata": {
        "id": "XybNm_FR4d1p"
      },
      "execution_count": null,
      "outputs": []
    },
    {
      "cell_type": "code",
      "source": [
        "xstar=[]\n",
        "for i in range (0,1000):\n",
        "    if i >=0 and i <= 450:\n",
        "        goal=np.array([[3],[0],[3],[0],[0],[0]]) # хотим чтобы за первые 450 шагов он оказался в точке (3,3)\n",
        "        xstar.append(copy(goal))\n",
        "    if i>=451 and i <= 550:\n",
        "        goal=np.array([[3],[0],[3],[0],[np.pi/2],[0]]) # теперь говорим ему встасть перпендикулярно оси х чтобы дестабилизировать свое положение\n",
        "        xstar.append(copy(goal))\n",
        "    if i>=551 and i <= 1000:\n",
        "        goal=np.array([[0],[0],[0],[0],[0],[0]]) # говорим ему вернуться на исходную позицию\n",
        "        xstar.append(copy(goal))\n",
        "xstar = np.array(xstar).reshape(1000,6,).T\n",
        "xstar.shape"
      ],
      "metadata": {
        "colab": {
          "base_uri": "https://localhost:8080/"
        },
        "id": "s_FiVCilqhtG",
        "outputId": "2acfe311-50cd-4ef8-9684-50fc2d5f7108"
      },
      "execution_count": null,
      "outputs": [
        {
          "output_type": "execute_result",
          "data": {
            "text/plain": [
              "(6, 1000)"
            ]
          },
          "metadata": {},
          "execution_count": 41
        }
      ]
    },
    {
      "cell_type": "markdown",
      "source": [
        "По умолчанию мы хотим чтобы дрон висел стабильно в воздухе, поэтому $u^*$ - это управление-стабилизатор."
      ],
      "metadata": {
        "id": "OQDlYGtWdY1a"
      }
    },
    {
      "cell_type": "markdown",
      "source": [
        "Реализуйте функцию подсчета потерь по формулам с семинара. $Q$ возьмите равной $I*10000, R = I*0.0001$"
      ],
      "metadata": {
        "id": "xNI1GcDdH-5A"
      }
    },
    {
      "cell_type": "code",
      "source": [
        "def cost_function(x,u):\n",
        "\n",
        "    cost = #ваш код здесь\n",
        "    return cost"
      ],
      "metadata": {
        "id": "tDLXbsOGqsmd"
      },
      "execution_count": null,
      "outputs": []
    },
    {
      "cell_type": "markdown",
      "source": [
        "**Задание 3. (2 балла):** реализуйте полный прогон уравнений Рикатти для 1000 шагов. Вам понадобится получасть матрицы A и B на каждом шаге для вычисления управления. Функция должна возвращать список из матриц K и P."
      ],
      "metadata": {
        "id": "H301R6DkIc95"
      }
    },
    {
      "cell_type": "code",
      "source": [
        "def back_Riccati(prev,curr,u):\n",
        "    N = 1000\n",
        "    #ваш код здесь\n",
        "    return K, P"
      ],
      "metadata": {
        "id": "MmjhxwBIhNau"
      },
      "execution_count": null,
      "outputs": []
    },
    {
      "cell_type": "code",
      "source": [
        "K, P = #ваш код здесь"
      ],
      "metadata": {
        "id": "OKy7KGLm0K9H"
      },
      "execution_count": null,
      "outputs": []
    },
    {
      "cell_type": "markdown",
      "source": [
        "Реализуйте генерацию управления с помощью полученного массива матриц K. Помните что мы решаем задачу в терминах относительного состояния и аппроксимированных матриц A и B. Поэтому, к вычисленному по формулам с семинара управлению требуется прибавить стабилизатор."
      ],
      "metadata": {
        "id": "MBhPAnJ5JRYK"
      }
    },
    {
      "cell_type": "code",
      "source": [
        "u = #ваш код здесь"
      ],
      "metadata": {
        "id": "ZpWfvM8wq0iz"
      },
      "execution_count": null,
      "outputs": []
    },
    {
      "cell_type": "markdown",
      "source": [
        "Проверьте управление. Для получения полного балла необходимо чтобы дрон прилетал  в точку (3, 3), и возвращался в (0, 0). ВЕКТОР ЦЕЛЕВЫХ СОСТОЯНИЙ xstar МЕНЯТЬ ЗАПРЕЩЕНО"
      ],
      "metadata": {
        "id": "SWtzpGsGz77C"
      }
    },
    {
      "cell_type": "code",
      "source": [
        "quadrotor.animate_robot(state, u)"
      ],
      "metadata": {
        "id": "VGLgxQIl1Vfy"
      },
      "execution_count": null,
      "outputs": []
    },
    {
      "cell_type": "markdown",
      "source": [
        "## Задание 2 (6 баллов): уравнение Беллмана"
      ],
      "metadata": {
        "id": "OTzzGmaw-hBp"
      }
    },
    {
      "cell_type": "markdown",
      "source": [
        "Теперь рассмотрим 1 из популярных в наши дни методов обучения с подкреплением: A2C. Для реализиции будем использовать популярную в наше время библиотеку RL-щиков [gymnasium](https://gymnasium.farama.org/content/basic_usage/).\n",
        "\n",
        "Произведем настройку окружения"
      ],
      "metadata": {
        "id": "CjRB9PCPu4Ri"
      }
    },
    {
      "cell_type": "code",
      "source": [
        "import sys, os\n",
        "if 'google.colab' in sys.modules and not os.path.exists('.setup_complete'):\n",
        "    !wget -q https://raw.githubusercontent.com/yandexdataschool/Practical_RL/master/setup_colab.sh -O- | bash\n",
        "    !wget -q https://raw.githubusercontent.com/yandexdataschool/Practical_RL/master/week02_value_based/mdp.py\n",
        "    !touch .setup_complete\n",
        "\n",
        "# This code creates a virtual display to draw game images on.\n",
        "# It will have no effect if your machine has a monitor.\n",
        "if type(os.environ.get(\"DISPLAY\")) is not str or len(os.environ.get(\"DISPLAY\")) == 0:\n",
        "    !bash ../xvfb start\n",
        "    os.environ['DISPLAY'] = ':1'"
      ],
      "metadata": {
        "colab": {
          "base_uri": "https://localhost:8080/"
        },
        "id": "EgmS8KwbJlGb",
        "outputId": "dc10cfb5-373d-4c24-cd28-77be4ed06c40"
      },
      "execution_count": null,
      "outputs": [
        {
          "output_type": "stream",
          "name": "stdout",
          "text": [
            "Selecting previously unselected package libfontenc1:amd64.\n",
            "(Reading database ... 121752 files and directories currently installed.)\n",
            "Preparing to unpack .../0-libfontenc1_1%3a1.1.4-1build3_amd64.deb ...\n",
            "Unpacking libfontenc1:amd64 (1:1.1.4-1build3) ...\n",
            "Selecting previously unselected package libxfont2:amd64.\n",
            "Preparing to unpack .../1-libxfont2_1%3a2.0.5-1build1_amd64.deb ...\n",
            "Unpacking libxfont2:amd64 (1:2.0.5-1build1) ...\n",
            "Selecting previously unselected package libxkbfile1:amd64.\n",
            "Preparing to unpack .../2-libxkbfile1_1%3a1.1.0-1build3_amd64.deb ...\n",
            "Unpacking libxkbfile1:amd64 (1:1.1.0-1build3) ...\n",
            "Selecting previously unselected package x11-xkb-utils.\n",
            "Preparing to unpack .../3-x11-xkb-utils_7.7+5build4_amd64.deb ...\n",
            "Unpacking x11-xkb-utils (7.7+5build4) ...\n",
            "Selecting previously unselected package xfonts-encodings.\n",
            "Preparing to unpack .../4-xfonts-encodings_1%3a1.0.5-0ubuntu2_all.deb ...\n",
            "Unpacking xfonts-encodings (1:1.0.5-0ubuntu2) ...\n",
            "Selecting previously unselected package xfonts-utils.\n",
            "Preparing to unpack .../5-xfonts-utils_1%3a7.7+6build2_amd64.deb ...\n",
            "Unpacking xfonts-utils (1:7.7+6build2) ...\n",
            "Selecting previously unselected package xfonts-base.\n",
            "Preparing to unpack .../6-xfonts-base_1%3a1.0.5_all.deb ...\n",
            "Unpacking xfonts-base (1:1.0.5) ...\n",
            "Selecting previously unselected package xserver-common.\n",
            "Preparing to unpack .../7-xserver-common_2%3a21.1.4-2ubuntu1.7~22.04.10_all.deb ...\n",
            "Unpacking xserver-common (2:21.1.4-2ubuntu1.7~22.04.10) ...\n",
            "Selecting previously unselected package xvfb.\n",
            "Preparing to unpack .../8-xvfb_2%3a21.1.4-2ubuntu1.7~22.04.10_amd64.deb ...\n",
            "Unpacking xvfb (2:21.1.4-2ubuntu1.7~22.04.10) ...\n",
            "Setting up libfontenc1:amd64 (1:1.1.4-1build3) ...\n",
            "Setting up xfonts-encodings (1:1.0.5-0ubuntu2) ...\n",
            "Setting up libxkbfile1:amd64 (1:1.1.0-1build3) ...\n",
            "Setting up libxfont2:amd64 (1:2.0.5-1build1) ...\n",
            "Setting up x11-xkb-utils (7.7+5build4) ...\n",
            "Setting up xfonts-utils (1:7.7+6build2) ...\n",
            "Setting up xfonts-base (1:1.0.5) ...\n",
            "Setting up xserver-common (2:21.1.4-2ubuntu1.7~22.04.10) ...\n",
            "Setting up xvfb (2:21.1.4-2ubuntu1.7~22.04.10) ...\n",
            "Processing triggers for man-db (2.10.2-1) ...\n",
            "Processing triggers for fontconfig (2.13.1-4.2ubuntu5) ...\n",
            "Processing triggers for libc-bin (2.35-0ubuntu3.4) ...\n",
            "/sbin/ldconfig.real: /usr/local/lib/libtbbbind_2_5.so.3 is not a symbolic link\n",
            "\n",
            "/sbin/ldconfig.real: /usr/local/lib/libtbbmalloc_proxy.so.2 is not a symbolic link\n",
            "\n",
            "/sbin/ldconfig.real: /usr/local/lib/libtbb.so.12 is not a symbolic link\n",
            "\n",
            "/sbin/ldconfig.real: /usr/local/lib/libtbbbind_2_0.so.3 is not a symbolic link\n",
            "\n",
            "/sbin/ldconfig.real: /usr/local/lib/libtbbbind.so.3 is not a symbolic link\n",
            "\n",
            "/sbin/ldconfig.real: /usr/local/lib/libtbbmalloc.so.2 is not a symbolic link\n",
            "\n",
            "Starting virtual X frame buffer: Xvfb.\n"
          ]
        }
      ]
    },
    {
      "cell_type": "code",
      "source": [
        "!pip install swig\n",
        "!pip install gymnasium[toy_text,classic_control,box2d]"
      ],
      "metadata": {
        "colab": {
          "base_uri": "https://localhost:8080/"
        },
        "id": "7R5q6c7hKegN",
        "outputId": "1ab819d2-012a-4b3a-9fb4-a4a7f99d4bc3"
      },
      "execution_count": null,
      "outputs": [
        {
          "output_type": "stream",
          "name": "stdout",
          "text": [
            "Collecting swig\n",
            "  Downloading swig-4.2.1-py2.py3-none-manylinux_2_5_x86_64.manylinux1_x86_64.whl (1.9 MB)\n",
            "\u001b[2K     \u001b[90m━━━━━━━━━━━━━━━━━━━━━━━━━━━━━━━━━━━━━━━━\u001b[0m \u001b[32m1.9/1.9 MB\u001b[0m \u001b[31m9.6 MB/s\u001b[0m eta \u001b[36m0:00:00\u001b[0m\n",
            "\u001b[?25hInstalling collected packages: swig\n",
            "Successfully installed swig-4.2.1\n",
            "Collecting gymnasium[box2d,classic_control,toy_text]\n",
            "  Downloading gymnasium-0.29.1-py3-none-any.whl (953 kB)\n",
            "\u001b[2K     \u001b[90m━━━━━━━━━━━━━━━━━━━━━━━━━━━━━━━━━━━━━━━━\u001b[0m \u001b[32m953.9/953.9 kB\u001b[0m \u001b[31m5.6 MB/s\u001b[0m eta \u001b[36m0:00:00\u001b[0m\n",
            "\u001b[?25hRequirement already satisfied: numpy>=1.21.0 in /usr/local/lib/python3.10/dist-packages (from gymnasium[box2d,classic_control,toy_text]) (1.25.2)\n",
            "Requirement already satisfied: cloudpickle>=1.2.0 in /usr/local/lib/python3.10/dist-packages (from gymnasium[box2d,classic_control,toy_text]) (2.2.1)\n",
            "Requirement already satisfied: typing-extensions>=4.3.0 in /usr/local/lib/python3.10/dist-packages (from gymnasium[box2d,classic_control,toy_text]) (4.11.0)\n",
            "Collecting farama-notifications>=0.0.1 (from gymnasium[box2d,classic_control,toy_text])\n",
            "  Downloading Farama_Notifications-0.0.4-py3-none-any.whl (2.5 kB)\n",
            "Collecting box2d-py==2.3.5 (from gymnasium[box2d,classic_control,toy_text])\n",
            "  Downloading box2d-py-2.3.5.tar.gz (374 kB)\n",
            "\u001b[2K     \u001b[90m━━━━━━━━━━━━━━━━━━━━━━━━━━━━━━━━━━━━━━━━\u001b[0m \u001b[32m374.4/374.4 kB\u001b[0m \u001b[31m9.4 MB/s\u001b[0m eta \u001b[36m0:00:00\u001b[0m\n",
            "\u001b[?25h  Preparing metadata (setup.py) ... \u001b[?25l\u001b[?25hdone\n",
            "Requirement already satisfied: pygame>=2.1.3 in /usr/local/lib/python3.10/dist-packages (from gymnasium[box2d,classic_control,toy_text]) (2.5.2)\n",
            "Requirement already satisfied: swig==4.* in /usr/local/lib/python3.10/dist-packages (from gymnasium[box2d,classic_control,toy_text]) (4.2.1)\n",
            "Building wheels for collected packages: box2d-py\n",
            "  Building wheel for box2d-py (setup.py) ... \u001b[?25l\u001b[?25hdone\n",
            "  Created wheel for box2d-py: filename=box2d_py-2.3.5-cp310-cp310-linux_x86_64.whl size=2376100 sha256=16097b05a5d7f25c9d4887c3684e14c69cb8ef09fb5b3c8fd71e3c226ed0225f\n",
            "  Stored in directory: /root/.cache/pip/wheels/db/8f/6a/eaaadf056fba10a98d986f6dce954e6201ba3126926fc5ad9e\n",
            "Successfully built box2d-py\n",
            "Installing collected packages: farama-notifications, box2d-py, gymnasium\n",
            "Successfully installed box2d-py-2.3.5 farama-notifications-0.0.4 gymnasium-0.29.1\n"
          ]
        }
      ]
    },
    {
      "cell_type": "markdown",
      "source": [
        "Алгоритм будем исследовать на примере задачи [cartpole](https://gymnasium.farama.org/environments/classic_control/cart_pole/).\n",
        "\n",
        "gymnasium предоставляет возможность работать с симуляциями окружающих сред для разных задач. Прочитайте комментарии к коду в следующей ячейке."
      ],
      "metadata": {
        "id": "x4OlK36q3cUp"
      }
    },
    {
      "cell_type": "code",
      "source": [
        "import torch\n",
        "import numpy as np\n",
        "from collections import deque\n",
        "import matplotlib.pyplot as plt\n",
        "import gymnasium as gym\n",
        "\n",
        "# if you see \"<classname> has no attribute .env\", remove .env or update gym\n",
        "env = gym.make(\"CartPole-v0\", render_mode=\"rgb_array\").env # так создается симулятов окружения\n",
        "\n",
        "env.reset() # сбрасываем параметры симулятора (устанавливаем прошедшее всемя с начала эпизода на 0, накопленную награду на 0, сбрасываются параметры инерции)\n",
        "n_actions = env.action_space.n # получаем количество возможных действий управления\n",
        "state_dim = env.observation_space.shape[0] # получаем размерность вектора наблюдений\n",
        "print('Выход функции step:', env.step(0)) #для того чтобы сделать шаг симуляции есть функция step, принимающая на вход действие и возвращающая следующее состояние, награду, индикатор окончания эпизода и дополнительную иннформацию\n",
        "plt.imshow(env.render()) #render отрисовывает окружающую среду в формате пригодном для подачи в функцию imshow\n",
        "print(\"state vector dim =\", state_dim)\n",
        "print(\"n_actions =\", n_actions)\n",
        "\n",
        "env.close() #останавливаем симуляцию"
      ],
      "metadata": {
        "colab": {
          "base_uri": "https://localhost:8080/",
          "height": 448
        },
        "id": "etFmql7x-fo7",
        "outputId": "3032f1b4-5edb-4737-b9d3-d0b2aaf67991"
      },
      "execution_count": null,
      "outputs": [
        {
          "output_type": "stream",
          "name": "stdout",
          "text": [
            "Выход функции step: (array([-0.0128429 , -0.17671344,  0.03749534,  0.29536232], dtype=float32), 1.0, False, False, {})\n",
            "state vector dim = 4\n",
            "n_actions = 2\n"
          ]
        },
        {
          "output_type": "display_data",
          "data": {
            "text/plain": [
              "<Figure size 640x480 with 1 Axes>"
            ],
            "image/png": "[encoded data removed]"
          },
          "metadata": {}
        }
      ]
    },
    {
      "cell_type": "code",
      "source": [
        "import os\n",
        "from itertools import count\n",
        "import torch\n",
        "import torch.nn as nn\n",
        "import torch.optim as optim\n",
        "import torch.nn.functional as F\n",
        "from torch.distributions import Categorical"
      ],
      "metadata": {
        "id": "17eLK9s6YEaE"
      },
      "execution_count": null,
      "outputs": []
    },
    {
      "cell_type": "code",
      "source": [
        "device = torch.device(\"cuda\" if torch.cuda.is_available() else \"cpu\")\n",
        "state_size = env.observation_space.shape[0]\n",
        "action_size = env.action_space.n"
      ],
      "metadata": {
        "id": "H8fM0urV6eNv"
      },
      "execution_count": null,
      "outputs": []
    },
    {
      "cell_type": "markdown",
      "source": [
        "Напомним суть метода A2C:\n",
        "\n",
        "Есть 2 нейронный сети: Actor и Critic. Critic - по-сути функция Беллмана, которую обучают под дискретное уравнение Беллмана.\n",
        "\n",
        "Actor - политика, которую мы обучает максимизировать функцию Беллмана.\n",
        "\n"
      ],
      "metadata": {
        "id": "h0TSpPXA7geS"
      }
    },
    {
      "cell_type": "code",
      "source": [
        "device = torch.device(\"cuda\" if torch.cuda.is_available() else \"cpu\")\n",
        "state_size = env.observation_space.shape[0]\n",
        "action_size = env.action_space.n"
      ],
      "metadata": {
        "id": "rfr-FrWCEeHo"
      },
      "execution_count": null,
      "outputs": []
    },
    {
      "cell_type": "markdown",
      "source": [
        "Создайте 2 вышеупомянутые нейросети. Для нашей задачи хватит 2-3 линейных слоя в каждой. Так как пространство действий дискретно, вам  надо будет пробросить градиент через семплирование с вероятностями. В этом вам поможет torch.distributions.Categorical как возвращаемое значение Actor"
      ],
      "metadata": {
        "id": "fdS3KqyvEfiV"
      }
    },
    {
      "cell_type": "code",
      "source": [
        "class Actor(nn.Module):\n",
        "    def __init__(self, state_size, action_size):\n",
        "        super(Actor, self).__init__()\n",
        "        #ваш код здесь\n",
        "\n",
        "    def forward(self, state):\n",
        "        #ваш код здесь\n",
        "\n",
        "\n",
        "class Critic(nn.Module):\n",
        "    def __init__(self, state_size, action_size):\n",
        "        super(Critic, self).__init__()\n",
        "        #ваш код здесь\n",
        "\n",
        "    def forward(self, state):\n",
        "        #ваш код здесь\n"
      ],
      "metadata": {
        "id": "ImqPQdZQEe9I"
      },
      "execution_count": null,
      "outputs": []
    },
    {
      "cell_type": "markdown",
      "source": [
        "Теперь для удобства реализуем функцию compute_returns, вычисляющую значения Q - функции. На вход она получает список rewards наград, получаемых на каждом шаге куска траектории, next_state - выход критика в последнем состоянии таектории. При обучении мы будем последовательно генерировать кусок траектории фиксированной длины (из соображений удобства). На выходе вы должны получить оценку Q-функции. Нам никто не гарантирует что эпизод не закончится раньше чем закончится генерция траектории. Например, N = 20, а на 10 эпизоде у нас маятник уже упал. gymnasium в таком случае автоматически запускает новый эпизод и при следующем вызове step эпизод будет уже новый. Для этого, в функцию передается параметр dones, являющийся списком длины N, содержащий индикаторы того, завершился ли эпизод на соответствующем шаге. Соответственно, для оценок Q-функции на куске уже траектории, известной до последнего эпизода, прибавлять V-функцию не нужно, так как мы и так знаем все награды до самого конца.\n",
        "\n",
        "Реализуйте функцию compute_returns."
      ],
      "metadata": {
        "id": "bWeee2LeLIb4"
      }
    },
    {
      "cell_type": "code",
      "source": [
        "def compute_Q(next_value, rewards, dones, gamma=0.99):\n",
        "    #ваш код здесь"
      ],
      "metadata": {
        "id": "KexFsImcLG4Q"
      },
      "execution_count": null,
      "outputs": []
    },
    {
      "cell_type": "markdown",
      "source": [
        "Теперь реализуйте итерацию обучения. Напомним формулы:\n",
        "\n",
        "\n",
        "$L_{actor} = -\\frac{1}{MN} \\sum_{m=0}^M \\sum_{t=0}^N log(π(a_t^m|s_t^m))A(a_t^m, s_t^m)$\n",
        "\n",
        "$L_{critic} = \\frac{1}{MN} \\sum_{m=0}^M \\sum_{t=0}^N (V(s_t^m) - y(s_t^m, a_t^m))^2$\n",
        "\n",
        "$y(s_t^m, a_t^m) = \\sum_{t'=t}^{N-1} γ^{t'-t} r(s_{t'}, a_{t'}) + γ^{N-t} V(s_N) $"
      ],
      "metadata": {
        "id": "tDCZq8Ebet3W"
      }
    },
    {
      "cell_type": "code",
      "source": [
        "def trainIters(actor, critic, n_iters):\n",
        "    #создайте оптимизаторы для Actor и Critic\n",
        "    optimizerActor = #ваш код здесь\n",
        "    optimizerCritic = #ваш код здесь\n",
        "\n",
        "    for iter in range(n_iters):\n",
        "        #обнулите окружение и получите первое состояние\n",
        "        state = #ваш код здесь\n",
        "        #переменные для накопления всего накапливаемого\n",
        "        log_probs = []\n",
        "        values = []\n",
        "        rewards = []\n",
        "        dones = []\n",
        "\n",
        "        #цикл по шагам в эпизоде\n",
        "        for #ваш код здесь\n",
        "            env.render()\n",
        "\n",
        "            #получите действие и значение V - функции в текущем состоянии state\n",
        "            #ваш код здесь\n",
        "\n",
        "            #шаг симулятора\n",
        "            next_state, reward, done, truncated, _ = #ваш код здесь\n",
        "\n",
        "            #накапливаем логарифмы вероятностей, значения v-функции, действия, награды, индикаторы завершения эпизода\n",
        "            #ваш код здесь\n",
        "\n",
        "            if done:\n",
        "                print('Iteration: {}, Score: {}'.format(iter, i))\n",
        "\n",
        "\n",
        "        #получите значение V - функции в последнем состоянии (параметр next_state)\n",
        "        #ваш код здесь\n",
        "\n",
        "        #вычислите Q-функции\n",
        "        #ваш код здесь\n",
        "\n",
        "        #вычислите advantage\n",
        "        advantage = #ваш код здесь\n",
        "\n",
        "        #вычислите actor_loss\n",
        "        actor_loss = #ваш код здесь\n",
        "\n",
        "        #вычислите critic_loss\n",
        "        critic_loss = #ваш код здесь\n",
        "\n",
        "        #сделайте шаг оптимизации critic_loss\n",
        "        #ваш код здесь\n",
        "\n",
        "    torch.save(actor, 'actor.pkl')\n",
        "    torch.save(critic, 'critic.pkl')\n",
        "    env.close()\n",
        "\n",
        "actor = Actor(state_size, action_size).to(device)\n",
        "critic = Critic(state_size, action_size).to(device)\n",
        "trainIters(actor, critic, n_iters=500)"
      ],
      "metadata": {
        "id": "Pw0uyUtdT5So"
      },
      "execution_count": null,
      "outputs": []
    },
    {
      "cell_type": "markdown",
      "source": [
        "Проверьте обученные сети. Награда после завершения эпизода должна быть стабильно больше 300. Можно менять количество эпох обучения"
      ],
      "metadata": {
        "id": "88W5mTOjT56b"
      }
    },
    {
      "cell_type": "code",
      "source": [
        "#для тестирования скопируйте цикл for из предыдущей ячейки сюда, удалите логгирования, замените range(N) на count() (тогда он будет бесконечно итерироваться) и в if done запихните break.\n",
        "#Прогонить эпизод несколько раз"
      ],
      "metadata": {
        "id": "M2ykzAfErjYP"
      },
      "execution_count": 1,
      "outputs": []
    },
    {
      "cell_type": "markdown",
      "source": [
        "Реализуем функцию для записи траекторий."
      ],
      "metadata": {
        "id": "Q8iNYfyTTZLE"
      }
    },
    {
      "cell_type": "code",
      "source": [
        "def generate_session(env, agent, t_max=1000):\n",
        "    \"\"\"\n",
        "    Play a single game using agent neural network.\n",
        "    Terminate when game finishes or after :t_max: steps\n",
        "    \"\"\"\n",
        "    states, actions = [], []\n",
        "    total_reward = 0\n",
        "\n",
        "    s = env.reset()[0]\n",
        "\n",
        "    for t in range(t_max):\n",
        "        a = #получите следующее действие\n",
        "\n",
        "        new_s, r, terminated, truncated, _ = #шаг симуляции\n",
        "\n",
        "        # накаливаем траекторию\n",
        "        states.append(s)\n",
        "        actions.append(a)\n",
        "        total_reward += r\n",
        "\n",
        "        s = new_s\n",
        "        if terminated or truncated:\n",
        "            break\n",
        "    return states, actions, total_reward"
      ],
      "metadata": {
        "id": "u4EezrlYLktq"
      },
      "execution_count": null,
      "outputs": []
    },
    {
      "cell_type": "markdown",
      "source": [
        "Запишем видео работы сетей (парочку видео приложите в  энитаск)"
      ],
      "metadata": {
        "id": "IvhGVEDGT3rc"
      }
    },
    {
      "cell_type": "code",
      "source": [
        "from gymnasium.wrappers import RecordVideo\n",
        "\n",
        "with RecordVideo(\n",
        "    env=gym.make(\"CartPole-v0\", render_mode=\"rgb_array\"),\n",
        "    video_folder=\"./videos\",\n",
        "    episode_trigger=lambda episode_number: True,\n",
        ") as env_monitor:\n",
        "    sessions = [generate_session(env_monitor, actor) for _ in range(100)]"
      ],
      "metadata": {
        "colab": {
          "base_uri": "https://localhost:8080/"
        },
        "id": "g2CxbnueYdx8",
        "outputId": "cdeec2c4-534e-4dc9-f398-ecafe5e62095"
      },
      "execution_count": null,
      "outputs": [
        {
          "output_type": "stream",
          "name": "stdout",
          "text": [
            "Moviepy - Building video /content/videos/rl-video-episode-0.mp4.\n",
            "Moviepy - Writing video /content/videos/rl-video-episode-0.mp4\n",
            "\n"
          ]
        },
        {
          "output_type": "stream",
          "name": "stderr",
          "text": []
        },
        {
          "output_type": "stream",
          "name": "stdout",
          "text": [
            "Moviepy - Done !\n",
            "Moviepy - video ready /content/videos/rl-video-episode-0.mp4\n",
            "Moviepy - Building video /content/videos/rl-video-episode-1.mp4.\n",
            "Moviepy - Writing video /content/videos/rl-video-episode-1.mp4\n",
            "\n"
          ]
        },
        {
          "output_type": "stream",
          "name": "stderr",
          "text": []
        },
        {
          "output_type": "stream",
          "name": "stdout",
          "text": [
            "Moviepy - Done !\n",
            "Moviepy - video ready /content/videos/rl-video-episode-1.mp4\n",
            "Moviepy - Building video /content/videos/rl-video-episode-2.mp4.\n",
            "Moviepy - Writing video /content/videos/rl-video-episode-2.mp4\n",
            "\n"
          ]
        },
        {
          "output_type": "stream",
          "name": "stderr",
          "text": []
        },
        {
          "output_type": "stream",
          "name": "stdout",
          "text": [
            "Moviepy - Done !\n",
            "Moviepy - video ready /content/videos/rl-video-episode-2.mp4\n",
            "Moviepy - Building video /content/videos/rl-video-episode-3.mp4.\n",
            "Moviepy - Writing video /content/videos/rl-video-episode-3.mp4\n",
            "\n"
          ]
        },
        {
          "output_type": "stream",
          "name": "stderr",
          "text": []
        },
        {
          "output_type": "stream",
          "name": "stdout",
          "text": [
            "Moviepy - Done !\n",
            "Moviepy - video ready /content/videos/rl-video-episode-3.mp4\n",
            "Moviepy - Building video /content/videos/rl-video-episode-4.mp4.\n",
            "Moviepy - Writing video /content/videos/rl-video-episode-4.mp4\n",
            "\n"
          ]
        },
        {
          "output_type": "stream",
          "name": "stderr",
          "text": []
        },
        {
          "output_type": "stream",
          "name": "stdout",
          "text": [
            "Moviepy - Done !\n",
            "Moviepy - video ready /content/videos/rl-video-episode-4.mp4\n",
            "Moviepy - Building video /content/videos/rl-video-episode-5.mp4.\n",
            "Moviepy - Writing video /content/videos/rl-video-episode-5.mp4\n",
            "\n"
          ]
        },
        {
          "output_type": "stream",
          "name": "stderr",
          "text": []
        },
        {
          "output_type": "stream",
          "name": "stdout",
          "text": [
            "Moviepy - Done !\n",
            "Moviepy - video ready /content/videos/rl-video-episode-5.mp4\n",
            "Moviepy - Building video /content/videos/rl-video-episode-6.mp4.\n",
            "Moviepy - Writing video /content/videos/rl-video-episode-6.mp4\n",
            "\n"
          ]
        },
        {
          "output_type": "stream",
          "name": "stderr",
          "text": []
        },
        {
          "output_type": "stream",
          "name": "stdout",
          "text": [
            "Moviepy - Done !\n",
            "Moviepy - video ready /content/videos/rl-video-episode-6.mp4\n",
            "Moviepy - Building video /content/videos/rl-video-episode-7.mp4.\n",
            "Moviepy - Writing video /content/videos/rl-video-episode-7.mp4\n",
            "\n"
          ]
        },
        {
          "output_type": "stream",
          "name": "stderr",
          "text": []
        },
        {
          "output_type": "stream",
          "name": "stdout",
          "text": [
            "Moviepy - Done !\n",
            "Moviepy - video ready /content/videos/rl-video-episode-7.mp4\n",
            "Moviepy - Building video /content/videos/rl-video-episode-8.mp4.\n",
            "Moviepy - Writing video /content/videos/rl-video-episode-8.mp4\n",
            "\n"
          ]
        },
        {
          "output_type": "stream",
          "name": "stderr",
          "text": []
        },
        {
          "output_type": "stream",
          "name": "stdout",
          "text": [
            "Moviepy - Done !\n",
            "Moviepy - video ready /content/videos/rl-video-episode-8.mp4\n",
            "Moviepy - Building video /content/videos/rl-video-episode-9.mp4.\n",
            "Moviepy - Writing video /content/videos/rl-video-episode-9.mp4\n",
            "\n"
          ]
        },
        {
          "output_type": "stream",
          "name": "stderr",
          "text": []
        },
        {
          "output_type": "stream",
          "name": "stdout",
          "text": [
            "Moviepy - Done !\n",
            "Moviepy - video ready /content/videos/rl-video-episode-9.mp4\n",
            "Moviepy - Building video /content/videos/rl-video-episode-10.mp4.\n",
            "Moviepy - Writing video /content/videos/rl-video-episode-10.mp4\n",
            "\n"
          ]
        },
        {
          "output_type": "stream",
          "name": "stderr",
          "text": []
        },
        {
          "output_type": "stream",
          "name": "stdout",
          "text": [
            "Moviepy - Done !\n",
            "Moviepy - video ready /content/videos/rl-video-episode-10.mp4\n",
            "Moviepy - Building video /content/videos/rl-video-episode-11.mp4.\n",
            "Moviepy - Writing video /content/videos/rl-video-episode-11.mp4\n",
            "\n"
          ]
        },
        {
          "output_type": "stream",
          "name": "stderr",
          "text": []
        },
        {
          "output_type": "stream",
          "name": "stdout",
          "text": [
            "Moviepy - Done !\n",
            "Moviepy - video ready /content/videos/rl-video-episode-11.mp4\n",
            "Moviepy - Building video /content/videos/rl-video-episode-12.mp4.\n",
            "Moviepy - Writing video /content/videos/rl-video-episode-12.mp4\n",
            "\n"
          ]
        },
        {
          "output_type": "stream",
          "name": "stderr",
          "text": []
        },
        {
          "output_type": "stream",
          "name": "stdout",
          "text": [
            "Moviepy - Done !\n",
            "Moviepy - video ready /content/videos/rl-video-episode-12.mp4\n",
            "Moviepy - Building video /content/videos/rl-video-episode-13.mp4.\n",
            "Moviepy - Writing video /content/videos/rl-video-episode-13.mp4\n",
            "\n"
          ]
        },
        {
          "output_type": "stream",
          "name": "stderr",
          "text": []
        },
        {
          "output_type": "stream",
          "name": "stdout",
          "text": [
            "Moviepy - Done !\n",
            "Moviepy - video ready /content/videos/rl-video-episode-13.mp4\n",
            "Moviepy - Building video /content/videos/rl-video-episode-14.mp4.\n",
            "Moviepy - Writing video /content/videos/rl-video-episode-14.mp4\n",
            "\n"
          ]
        },
        {
          "output_type": "stream",
          "name": "stderr",
          "text": []
        },
        {
          "output_type": "stream",
          "name": "stdout",
          "text": [
            "Moviepy - Done !\n",
            "Moviepy - video ready /content/videos/rl-video-episode-14.mp4\n",
            "Moviepy - Building video /content/videos/rl-video-episode-15.mp4.\n",
            "Moviepy - Writing video /content/videos/rl-video-episode-15.mp4\n",
            "\n"
          ]
        },
        {
          "output_type": "stream",
          "name": "stderr",
          "text": []
        },
        {
          "output_type": "stream",
          "name": "stdout",
          "text": [
            "Moviepy - Done !\n",
            "Moviepy - video ready /content/videos/rl-video-episode-15.mp4\n",
            "Moviepy - Building video /content/videos/rl-video-episode-16.mp4.\n",
            "Moviepy - Writing video /content/videos/rl-video-episode-16.mp4\n",
            "\n"
          ]
        },
        {
          "output_type": "stream",
          "name": "stderr",
          "text": []
        },
        {
          "output_type": "stream",
          "name": "stdout",
          "text": [
            "Moviepy - Done !\n",
            "Moviepy - video ready /content/videos/rl-video-episode-16.mp4\n",
            "Moviepy - Building video /content/videos/rl-video-episode-17.mp4.\n",
            "Moviepy - Writing video /content/videos/rl-video-episode-17.mp4\n",
            "\n"
          ]
        },
        {
          "output_type": "stream",
          "name": "stderr",
          "text": []
        },
        {
          "output_type": "stream",
          "name": "stdout",
          "text": [
            "Moviepy - Done !\n",
            "Moviepy - video ready /content/videos/rl-video-episode-17.mp4\n",
            "Moviepy - Building video /content/videos/rl-video-episode-18.mp4.\n",
            "Moviepy - Writing video /content/videos/rl-video-episode-18.mp4\n",
            "\n"
          ]
        },
        {
          "output_type": "stream",
          "name": "stderr",
          "text": []
        },
        {
          "output_type": "stream",
          "name": "stdout",
          "text": [
            "Moviepy - Done !\n",
            "Moviepy - video ready /content/videos/rl-video-episode-18.mp4\n",
            "Moviepy - Building video /content/videos/rl-video-episode-19.mp4.\n",
            "Moviepy - Writing video /content/videos/rl-video-episode-19.mp4\n",
            "\n"
          ]
        },
        {
          "output_type": "stream",
          "name": "stderr",
          "text": []
        },
        {
          "output_type": "stream",
          "name": "stdout",
          "text": [
            "Moviepy - Done !\n",
            "Moviepy - video ready /content/videos/rl-video-episode-19.mp4\n",
            "Moviepy - Building video /content/videos/rl-video-episode-20.mp4.\n",
            "Moviepy - Writing video /content/videos/rl-video-episode-20.mp4\n",
            "\n"
          ]
        },
        {
          "output_type": "stream",
          "name": "stderr",
          "text": []
        },
        {
          "output_type": "stream",
          "name": "stdout",
          "text": [
            "Moviepy - Done !\n",
            "Moviepy - video ready /content/videos/rl-video-episode-20.mp4\n",
            "Moviepy - Building video /content/videos/rl-video-episode-21.mp4.\n",
            "Moviepy - Writing video /content/videos/rl-video-episode-21.mp4\n",
            "\n"
          ]
        },
        {
          "output_type": "stream",
          "name": "stderr",
          "text": []
        },
        {
          "output_type": "stream",
          "name": "stdout",
          "text": [
            "Moviepy - Done !\n",
            "Moviepy - video ready /content/videos/rl-video-episode-21.mp4\n",
            "Moviepy - Building video /content/videos/rl-video-episode-22.mp4.\n",
            "Moviepy - Writing video /content/videos/rl-video-episode-22.mp4\n",
            "\n"
          ]
        },
        {
          "output_type": "stream",
          "name": "stderr",
          "text": []
        },
        {
          "output_type": "stream",
          "name": "stdout",
          "text": [
            "Moviepy - Done !\n",
            "Moviepy - video ready /content/videos/rl-video-episode-22.mp4\n",
            "Moviepy - Building video /content/videos/rl-video-episode-23.mp4.\n",
            "Moviepy - Writing video /content/videos/rl-video-episode-23.mp4\n",
            "\n"
          ]
        },
        {
          "output_type": "stream",
          "name": "stderr",
          "text": []
        },
        {
          "output_type": "stream",
          "name": "stdout",
          "text": [
            "Moviepy - Done !\n",
            "Moviepy - video ready /content/videos/rl-video-episode-23.mp4\n",
            "Moviepy - Building video /content/videos/rl-video-episode-24.mp4.\n",
            "Moviepy - Writing video /content/videos/rl-video-episode-24.mp4\n",
            "\n"
          ]
        },
        {
          "output_type": "stream",
          "name": "stderr",
          "text": []
        },
        {
          "output_type": "stream",
          "name": "stdout",
          "text": [
            "Moviepy - Done !\n",
            "Moviepy - video ready /content/videos/rl-video-episode-24.mp4\n",
            "Moviepy - Building video /content/videos/rl-video-episode-25.mp4.\n",
            "Moviepy - Writing video /content/videos/rl-video-episode-25.mp4\n",
            "\n"
          ]
        },
        {
          "output_type": "stream",
          "name": "stderr",
          "text": []
        },
        {
          "output_type": "stream",
          "name": "stdout",
          "text": [
            "Moviepy - Done !\n",
            "Moviepy - video ready /content/videos/rl-video-episode-25.mp4\n",
            "Moviepy - Building video /content/videos/rl-video-episode-26.mp4.\n",
            "Moviepy - Writing video /content/videos/rl-video-episode-26.mp4\n",
            "\n"
          ]
        },
        {
          "output_type": "stream",
          "name": "stderr",
          "text": []
        },
        {
          "output_type": "stream",
          "name": "stdout",
          "text": [
            "Moviepy - Done !\n",
            "Moviepy - video ready /content/videos/rl-video-episode-26.mp4\n",
            "Moviepy - Building video /content/videos/rl-video-episode-27.mp4.\n",
            "Moviepy - Writing video /content/videos/rl-video-episode-27.mp4\n",
            "\n"
          ]
        },
        {
          "output_type": "stream",
          "name": "stderr",
          "text": []
        },
        {
          "output_type": "stream",
          "name": "stdout",
          "text": [
            "Moviepy - Done !\n",
            "Moviepy - video ready /content/videos/rl-video-episode-27.mp4\n",
            "Moviepy - Building video /content/videos/rl-video-episode-28.mp4.\n",
            "Moviepy - Writing video /content/videos/rl-video-episode-28.mp4\n",
            "\n"
          ]
        },
        {
          "output_type": "stream",
          "name": "stderr",
          "text": []
        },
        {
          "output_type": "stream",
          "name": "stdout",
          "text": [
            "Moviepy - Done !\n",
            "Moviepy - video ready /content/videos/rl-video-episode-28.mp4\n",
            "Moviepy - Building video /content/videos/rl-video-episode-29.mp4.\n",
            "Moviepy - Writing video /content/videos/rl-video-episode-29.mp4\n",
            "\n"
          ]
        },
        {
          "output_type": "stream",
          "name": "stderr",
          "text": []
        },
        {
          "output_type": "stream",
          "name": "stdout",
          "text": [
            "Moviepy - Done !\n",
            "Moviepy - video ready /content/videos/rl-video-episode-29.mp4\n",
            "Moviepy - Building video /content/videos/rl-video-episode-30.mp4.\n",
            "Moviepy - Writing video /content/videos/rl-video-episode-30.mp4\n",
            "\n"
          ]
        },
        {
          "output_type": "stream",
          "name": "stderr",
          "text": []
        },
        {
          "output_type": "stream",
          "name": "stdout",
          "text": [
            "Moviepy - Done !\n",
            "Moviepy - video ready /content/videos/rl-video-episode-30.mp4\n",
            "Moviepy - Building video /content/videos/rl-video-episode-31.mp4.\n",
            "Moviepy - Writing video /content/videos/rl-video-episode-31.mp4\n",
            "\n"
          ]
        },
        {
          "output_type": "stream",
          "name": "stderr",
          "text": []
        },
        {
          "output_type": "stream",
          "name": "stdout",
          "text": [
            "Moviepy - Done !\n",
            "Moviepy - video ready /content/videos/rl-video-episode-31.mp4\n",
            "Moviepy - Building video /content/videos/rl-video-episode-32.mp4.\n",
            "Moviepy - Writing video /content/videos/rl-video-episode-32.mp4\n",
            "\n"
          ]
        },
        {
          "output_type": "stream",
          "name": "stderr",
          "text": []
        },
        {
          "output_type": "stream",
          "name": "stdout",
          "text": [
            "Moviepy - Done !\n",
            "Moviepy - video ready /content/videos/rl-video-episode-32.mp4\n",
            "Moviepy - Building video /content/videos/rl-video-episode-33.mp4.\n",
            "Moviepy - Writing video /content/videos/rl-video-episode-33.mp4\n",
            "\n"
          ]
        },
        {
          "output_type": "stream",
          "name": "stderr",
          "text": []
        },
        {
          "output_type": "stream",
          "name": "stdout",
          "text": [
            "Moviepy - Done !\n",
            "Moviepy - video ready /content/videos/rl-video-episode-33.mp4\n",
            "Moviepy - Building video /content/videos/rl-video-episode-34.mp4.\n",
            "Moviepy - Writing video /content/videos/rl-video-episode-34.mp4\n",
            "\n"
          ]
        },
        {
          "output_type": "stream",
          "name": "stderr",
          "text": []
        },
        {
          "output_type": "stream",
          "name": "stdout",
          "text": [
            "Moviepy - Done !\n",
            "Moviepy - video ready /content/videos/rl-video-episode-34.mp4\n",
            "Moviepy - Building video /content/videos/rl-video-episode-35.mp4.\n",
            "Moviepy - Writing video /content/videos/rl-video-episode-35.mp4\n",
            "\n"
          ]
        },
        {
          "output_type": "stream",
          "name": "stderr",
          "text": []
        },
        {
          "output_type": "stream",
          "name": "stdout",
          "text": [
            "Moviepy - Done !\n",
            "Moviepy - video ready /content/videos/rl-video-episode-35.mp4\n",
            "Moviepy - Building video /content/videos/rl-video-episode-36.mp4.\n",
            "Moviepy - Writing video /content/videos/rl-video-episode-36.mp4\n",
            "\n"
          ]
        },
        {
          "output_type": "stream",
          "name": "stderr",
          "text": []
        },
        {
          "output_type": "stream",
          "name": "stdout",
          "text": [
            "Moviepy - Done !\n",
            "Moviepy - video ready /content/videos/rl-video-episode-36.mp4\n",
            "Moviepy - Building video /content/videos/rl-video-episode-37.mp4.\n",
            "Moviepy - Writing video /content/videos/rl-video-episode-37.mp4\n",
            "\n"
          ]
        },
        {
          "output_type": "stream",
          "name": "stderr",
          "text": []
        },
        {
          "output_type": "stream",
          "name": "stdout",
          "text": [
            "Moviepy - Done !\n",
            "Moviepy - video ready /content/videos/rl-video-episode-37.mp4\n",
            "Moviepy - Building video /content/videos/rl-video-episode-38.mp4.\n",
            "Moviepy - Writing video /content/videos/rl-video-episode-38.mp4\n",
            "\n"
          ]
        },
        {
          "output_type": "stream",
          "name": "stderr",
          "text": []
        },
        {
          "output_type": "stream",
          "name": "stdout",
          "text": [
            "Moviepy - Done !\n",
            "Moviepy - video ready /content/videos/rl-video-episode-38.mp4\n",
            "Moviepy - Building video /content/videos/rl-video-episode-39.mp4.\n",
            "Moviepy - Writing video /content/videos/rl-video-episode-39.mp4\n",
            "\n"
          ]
        },
        {
          "output_type": "stream",
          "name": "stderr",
          "text": []
        },
        {
          "output_type": "stream",
          "name": "stdout",
          "text": [
            "Moviepy - Done !\n",
            "Moviepy - video ready /content/videos/rl-video-episode-39.mp4\n",
            "Moviepy - Building video /content/videos/rl-video-episode-40.mp4.\n",
            "Moviepy - Writing video /content/videos/rl-video-episode-40.mp4\n",
            "\n"
          ]
        },
        {
          "output_type": "stream",
          "name": "stderr",
          "text": []
        },
        {
          "output_type": "stream",
          "name": "stdout",
          "text": [
            "Moviepy - Done !\n",
            "Moviepy - video ready /content/videos/rl-video-episode-40.mp4\n",
            "Moviepy - Building video /content/videos/rl-video-episode-41.mp4.\n",
            "Moviepy - Writing video /content/videos/rl-video-episode-41.mp4\n",
            "\n"
          ]
        },
        {
          "output_type": "stream",
          "name": "stderr",
          "text": []
        },
        {
          "output_type": "stream",
          "name": "stdout",
          "text": [
            "Moviepy - Done !\n",
            "Moviepy - video ready /content/videos/rl-video-episode-41.mp4\n",
            "Moviepy - Building video /content/videos/rl-video-episode-42.mp4.\n",
            "Moviepy - Writing video /content/videos/rl-video-episode-42.mp4\n",
            "\n"
          ]
        },
        {
          "output_type": "stream",
          "name": "stderr",
          "text": []
        },
        {
          "output_type": "stream",
          "name": "stdout",
          "text": [
            "Moviepy - Done !\n",
            "Moviepy - video ready /content/videos/rl-video-episode-42.mp4\n",
            "Moviepy - Building video /content/videos/rl-video-episode-43.mp4.\n",
            "Moviepy - Writing video /content/videos/rl-video-episode-43.mp4\n",
            "\n"
          ]
        },
        {
          "output_type": "stream",
          "name": "stderr",
          "text": []
        },
        {
          "output_type": "stream",
          "name": "stdout",
          "text": [
            "Moviepy - Done !\n",
            "Moviepy - video ready /content/videos/rl-video-episode-43.mp4\n",
            "Moviepy - Building video /content/videos/rl-video-episode-44.mp4.\n",
            "Moviepy - Writing video /content/videos/rl-video-episode-44.mp4\n",
            "\n"
          ]
        },
        {
          "output_type": "stream",
          "name": "stderr",
          "text": []
        },
        {
          "output_type": "stream",
          "name": "stdout",
          "text": [
            "Moviepy - Done !\n",
            "Moviepy - video ready /content/videos/rl-video-episode-44.mp4\n",
            "Moviepy - Building video /content/videos/rl-video-episode-45.mp4.\n",
            "Moviepy - Writing video /content/videos/rl-video-episode-45.mp4\n",
            "\n"
          ]
        },
        {
          "output_type": "stream",
          "name": "stderr",
          "text": []
        },
        {
          "output_type": "stream",
          "name": "stdout",
          "text": [
            "Moviepy - Done !\n",
            "Moviepy - video ready /content/videos/rl-video-episode-45.mp4\n",
            "Moviepy - Building video /content/videos/rl-video-episode-46.mp4.\n",
            "Moviepy - Writing video /content/videos/rl-video-episode-46.mp4\n",
            "\n"
          ]
        },
        {
          "output_type": "stream",
          "name": "stderr",
          "text": []
        },
        {
          "output_type": "stream",
          "name": "stdout",
          "text": [
            "Moviepy - Done !\n",
            "Moviepy - video ready /content/videos/rl-video-episode-46.mp4\n",
            "Moviepy - Building video /content/videos/rl-video-episode-47.mp4.\n",
            "Moviepy - Writing video /content/videos/rl-video-episode-47.mp4\n",
            "\n"
          ]
        },
        {
          "output_type": "stream",
          "name": "stderr",
          "text": []
        },
        {
          "output_type": "stream",
          "name": "stdout",
          "text": [
            "Moviepy - Done !\n",
            "Moviepy - video ready /content/videos/rl-video-episode-47.mp4\n",
            "Moviepy - Building video /content/videos/rl-video-episode-48.mp4.\n",
            "Moviepy - Writing video /content/videos/rl-video-episode-48.mp4\n",
            "\n"
          ]
        },
        {
          "output_type": "stream",
          "name": "stderr",
          "text": []
        },
        {
          "output_type": "stream",
          "name": "stdout",
          "text": [
            "Moviepy - Done !\n",
            "Moviepy - video ready /content/videos/rl-video-episode-48.mp4\n",
            "Moviepy - Building video /content/videos/rl-video-episode-49.mp4.\n",
            "Moviepy - Writing video /content/videos/rl-video-episode-49.mp4\n",
            "\n"
          ]
        },
        {
          "output_type": "stream",
          "name": "stderr",
          "text": []
        },
        {
          "output_type": "stream",
          "name": "stdout",
          "text": [
            "Moviepy - Done !\n",
            "Moviepy - video ready /content/videos/rl-video-episode-49.mp4\n",
            "Moviepy - Building video /content/videos/rl-video-episode-50.mp4.\n",
            "Moviepy - Writing video /content/videos/rl-video-episode-50.mp4\n",
            "\n"
          ]
        },
        {
          "output_type": "stream",
          "name": "stderr",
          "text": []
        },
        {
          "output_type": "stream",
          "name": "stdout",
          "text": [
            "Moviepy - Done !\n",
            "Moviepy - video ready /content/videos/rl-video-episode-50.mp4\n",
            "Moviepy - Building video /content/videos/rl-video-episode-51.mp4.\n",
            "Moviepy - Writing video /content/videos/rl-video-episode-51.mp4\n",
            "\n"
          ]
        },
        {
          "output_type": "stream",
          "name": "stderr",
          "text": []
        },
        {
          "output_type": "stream",
          "name": "stdout",
          "text": [
            "Moviepy - Done !\n",
            "Moviepy - video ready /content/videos/rl-video-episode-51.mp4\n",
            "Moviepy - Building video /content/videos/rl-video-episode-52.mp4.\n",
            "Moviepy - Writing video /content/videos/rl-video-episode-52.mp4\n",
            "\n"
          ]
        },
        {
          "output_type": "stream",
          "name": "stderr",
          "text": []
        },
        {
          "output_type": "stream",
          "name": "stdout",
          "text": [
            "Moviepy - Done !\n",
            "Moviepy - video ready /content/videos/rl-video-episode-52.mp4\n",
            "Moviepy - Building video /content/videos/rl-video-episode-53.mp4.\n",
            "Moviepy - Writing video /content/videos/rl-video-episode-53.mp4\n",
            "\n"
          ]
        },
        {
          "output_type": "stream",
          "name": "stderr",
          "text": []
        },
        {
          "output_type": "stream",
          "name": "stdout",
          "text": [
            "Moviepy - Done !\n",
            "Moviepy - video ready /content/videos/rl-video-episode-53.mp4\n",
            "Moviepy - Building video /content/videos/rl-video-episode-54.mp4.\n",
            "Moviepy - Writing video /content/videos/rl-video-episode-54.mp4\n",
            "\n"
          ]
        },
        {
          "output_type": "stream",
          "name": "stderr",
          "text": []
        },
        {
          "output_type": "stream",
          "name": "stdout",
          "text": [
            "Moviepy - Done !\n",
            "Moviepy - video ready /content/videos/rl-video-episode-54.mp4\n",
            "Moviepy - Building video /content/videos/rl-video-episode-55.mp4.\n",
            "Moviepy - Writing video /content/videos/rl-video-episode-55.mp4\n",
            "\n"
          ]
        },
        {
          "output_type": "stream",
          "name": "stderr",
          "text": []
        },
        {
          "output_type": "stream",
          "name": "stdout",
          "text": [
            "Moviepy - Done !\n",
            "Moviepy - video ready /content/videos/rl-video-episode-55.mp4\n",
            "Moviepy - Building video /content/videos/rl-video-episode-56.mp4.\n",
            "Moviepy - Writing video /content/videos/rl-video-episode-56.mp4\n",
            "\n"
          ]
        },
        {
          "output_type": "stream",
          "name": "stderr",
          "text": []
        },
        {
          "output_type": "stream",
          "name": "stdout",
          "text": [
            "Moviepy - Done !\n",
            "Moviepy - video ready /content/videos/rl-video-episode-56.mp4\n",
            "Moviepy - Building video /content/videos/rl-video-episode-57.mp4.\n",
            "Moviepy - Writing video /content/videos/rl-video-episode-57.mp4\n",
            "\n"
          ]
        },
        {
          "output_type": "stream",
          "name": "stderr",
          "text": []
        },
        {
          "output_type": "stream",
          "name": "stdout",
          "text": [
            "Moviepy - Done !\n",
            "Moviepy - video ready /content/videos/rl-video-episode-57.mp4\n",
            "Moviepy - Building video /content/videos/rl-video-episode-58.mp4.\n",
            "Moviepy - Writing video /content/videos/rl-video-episode-58.mp4\n",
            "\n"
          ]
        },
        {
          "output_type": "stream",
          "name": "stderr",
          "text": []
        },
        {
          "output_type": "stream",
          "name": "stdout",
          "text": [
            "Moviepy - Done !\n",
            "Moviepy - video ready /content/videos/rl-video-episode-58.mp4\n",
            "Moviepy - Building video /content/videos/rl-video-episode-59.mp4.\n",
            "Moviepy - Writing video /content/videos/rl-video-episode-59.mp4\n",
            "\n"
          ]
        },
        {
          "output_type": "stream",
          "name": "stderr",
          "text": []
        },
        {
          "output_type": "stream",
          "name": "stdout",
          "text": [
            "Moviepy - Done !\n",
            "Moviepy - video ready /content/videos/rl-video-episode-59.mp4\n",
            "Moviepy - Building video /content/videos/rl-video-episode-60.mp4.\n",
            "Moviepy - Writing video /content/videos/rl-video-episode-60.mp4\n",
            "\n"
          ]
        },
        {
          "output_type": "stream",
          "name": "stderr",
          "text": []
        },
        {
          "output_type": "stream",
          "name": "stdout",
          "text": [
            "Moviepy - Done !\n",
            "Moviepy - video ready /content/videos/rl-video-episode-60.mp4\n",
            "Moviepy - Building video /content/videos/rl-video-episode-61.mp4.\n",
            "Moviepy - Writing video /content/videos/rl-video-episode-61.mp4\n",
            "\n"
          ]
        },
        {
          "output_type": "stream",
          "name": "stderr",
          "text": []
        },
        {
          "output_type": "stream",
          "name": "stdout",
          "text": [
            "Moviepy - Done !\n",
            "Moviepy - video ready /content/videos/rl-video-episode-61.mp4\n",
            "Moviepy - Building video /content/videos/rl-video-episode-62.mp4.\n",
            "Moviepy - Writing video /content/videos/rl-video-episode-62.mp4\n",
            "\n"
          ]
        },
        {
          "output_type": "stream",
          "name": "stderr",
          "text": []
        },
        {
          "output_type": "stream",
          "name": "stdout",
          "text": [
            "Moviepy - Done !\n",
            "Moviepy - video ready /content/videos/rl-video-episode-62.mp4\n",
            "Moviepy - Building video /content/videos/rl-video-episode-63.mp4.\n",
            "Moviepy - Writing video /content/videos/rl-video-episode-63.mp4\n",
            "\n"
          ]
        },
        {
          "output_type": "stream",
          "name": "stderr",
          "text": []
        },
        {
          "output_type": "stream",
          "name": "stdout",
          "text": [
            "Moviepy - Done !\n",
            "Moviepy - video ready /content/videos/rl-video-episode-63.mp4\n",
            "Moviepy - Building video /content/videos/rl-video-episode-64.mp4.\n",
            "Moviepy - Writing video /content/videos/rl-video-episode-64.mp4\n",
            "\n"
          ]
        },
        {
          "output_type": "stream",
          "name": "stderr",
          "text": []
        },
        {
          "output_type": "stream",
          "name": "stdout",
          "text": [
            "Moviepy - Done !\n",
            "Moviepy - video ready /content/videos/rl-video-episode-64.mp4\n",
            "Moviepy - Building video /content/videos/rl-video-episode-65.mp4.\n",
            "Moviepy - Writing video /content/videos/rl-video-episode-65.mp4\n",
            "\n"
          ]
        },
        {
          "output_type": "stream",
          "name": "stderr",
          "text": []
        },
        {
          "output_type": "stream",
          "name": "stdout",
          "text": [
            "Moviepy - Done !\n",
            "Moviepy - video ready /content/videos/rl-video-episode-65.mp4\n",
            "Moviepy - Building video /content/videos/rl-video-episode-66.mp4.\n",
            "Moviepy - Writing video /content/videos/rl-video-episode-66.mp4\n",
            "\n"
          ]
        },
        {
          "output_type": "stream",
          "name": "stderr",
          "text": []
        },
        {
          "output_type": "stream",
          "name": "stdout",
          "text": [
            "Moviepy - Done !\n",
            "Moviepy - video ready /content/videos/rl-video-episode-66.mp4\n",
            "Moviepy - Building video /content/videos/rl-video-episode-67.mp4.\n",
            "Moviepy - Writing video /content/videos/rl-video-episode-67.mp4\n",
            "\n"
          ]
        },
        {
          "output_type": "stream",
          "name": "stderr",
          "text": []
        },
        {
          "output_type": "stream",
          "name": "stdout",
          "text": [
            "Moviepy - Done !\n",
            "Moviepy - video ready /content/videos/rl-video-episode-67.mp4\n",
            "Moviepy - Building video /content/videos/rl-video-episode-68.mp4.\n",
            "Moviepy - Writing video /content/videos/rl-video-episode-68.mp4\n",
            "\n"
          ]
        },
        {
          "output_type": "stream",
          "name": "stderr",
          "text": []
        },
        {
          "output_type": "stream",
          "name": "stdout",
          "text": [
            "Moviepy - Done !\n",
            "Moviepy - video ready /content/videos/rl-video-episode-68.mp4\n",
            "Moviepy - Building video /content/videos/rl-video-episode-69.mp4.\n",
            "Moviepy - Writing video /content/videos/rl-video-episode-69.mp4\n",
            "\n"
          ]
        },
        {
          "output_type": "stream",
          "name": "stderr",
          "text": []
        },
        {
          "output_type": "stream",
          "name": "stdout",
          "text": [
            "Moviepy - Done !\n",
            "Moviepy - video ready /content/videos/rl-video-episode-69.mp4\n",
            "Moviepy - Building video /content/videos/rl-video-episode-70.mp4.\n",
            "Moviepy - Writing video /content/videos/rl-video-episode-70.mp4\n",
            "\n"
          ]
        },
        {
          "output_type": "stream",
          "name": "stderr",
          "text": []
        },
        {
          "output_type": "stream",
          "name": "stdout",
          "text": [
            "Moviepy - Done !\n",
            "Moviepy - video ready /content/videos/rl-video-episode-70.mp4\n",
            "Moviepy - Building video /content/videos/rl-video-episode-71.mp4.\n",
            "Moviepy - Writing video /content/videos/rl-video-episode-71.mp4\n",
            "\n"
          ]
        },
        {
          "output_type": "stream",
          "name": "stderr",
          "text": []
        },
        {
          "output_type": "stream",
          "name": "stdout",
          "text": [
            "Moviepy - Done !\n",
            "Moviepy - video ready /content/videos/rl-video-episode-71.mp4\n",
            "Moviepy - Building video /content/videos/rl-video-episode-72.mp4.\n",
            "Moviepy - Writing video /content/videos/rl-video-episode-72.mp4\n",
            "\n"
          ]
        },
        {
          "output_type": "stream",
          "name": "stderr",
          "text": []
        },
        {
          "output_type": "stream",
          "name": "stdout",
          "text": [
            "Moviepy - Done !\n",
            "Moviepy - video ready /content/videos/rl-video-episode-72.mp4\n",
            "Moviepy - Building video /content/videos/rl-video-episode-73.mp4.\n",
            "Moviepy - Writing video /content/videos/rl-video-episode-73.mp4\n",
            "\n"
          ]
        },
        {
          "output_type": "stream",
          "name": "stderr",
          "text": []
        },
        {
          "output_type": "stream",
          "name": "stdout",
          "text": [
            "Moviepy - Done !\n",
            "Moviepy - video ready /content/videos/rl-video-episode-73.mp4\n",
            "Moviepy - Building video /content/videos/rl-video-episode-74.mp4.\n",
            "Moviepy - Writing video /content/videos/rl-video-episode-74.mp4\n",
            "\n"
          ]
        },
        {
          "output_type": "stream",
          "name": "stderr",
          "text": []
        },
        {
          "output_type": "stream",
          "name": "stdout",
          "text": [
            "Moviepy - Done !\n",
            "Moviepy - video ready /content/videos/rl-video-episode-74.mp4\n",
            "Moviepy - Building video /content/videos/rl-video-episode-75.mp4.\n",
            "Moviepy - Writing video /content/videos/rl-video-episode-75.mp4\n",
            "\n"
          ]
        },
        {
          "output_type": "stream",
          "name": "stderr",
          "text": []
        },
        {
          "output_type": "stream",
          "name": "stdout",
          "text": [
            "Moviepy - Done !\n",
            "Moviepy - video ready /content/videos/rl-video-episode-75.mp4\n",
            "Moviepy - Building video /content/videos/rl-video-episode-76.mp4.\n",
            "Moviepy - Writing video /content/videos/rl-video-episode-76.mp4\n",
            "\n"
          ]
        },
        {
          "output_type": "stream",
          "name": "stderr",
          "text": []
        },
        {
          "output_type": "stream",
          "name": "stdout",
          "text": [
            "Moviepy - Done !\n",
            "Moviepy - video ready /content/videos/rl-video-episode-76.mp4\n",
            "Moviepy - Building video /content/videos/rl-video-episode-77.mp4.\n",
            "Moviepy - Writing video /content/videos/rl-video-episode-77.mp4\n",
            "\n"
          ]
        },
        {
          "output_type": "stream",
          "name": "stderr",
          "text": []
        },
        {
          "output_type": "stream",
          "name": "stdout",
          "text": [
            "Moviepy - Done !\n",
            "Moviepy - video ready /content/videos/rl-video-episode-77.mp4\n",
            "Moviepy - Building video /content/videos/rl-video-episode-78.mp4.\n",
            "Moviepy - Writing video /content/videos/rl-video-episode-78.mp4\n",
            "\n"
          ]
        },
        {
          "output_type": "stream",
          "name": "stderr",
          "text": []
        },
        {
          "output_type": "stream",
          "name": "stdout",
          "text": [
            "Moviepy - Done !\n",
            "Moviepy - video ready /content/videos/rl-video-episode-78.mp4\n",
            "Moviepy - Building video /content/videos/rl-video-episode-79.mp4.\n",
            "Moviepy - Writing video /content/videos/rl-video-episode-79.mp4\n",
            "\n"
          ]
        },
        {
          "output_type": "stream",
          "name": "stderr",
          "text": []
        },
        {
          "output_type": "stream",
          "name": "stdout",
          "text": [
            "Moviepy - Done !\n",
            "Moviepy - video ready /content/videos/rl-video-episode-79.mp4\n",
            "Moviepy - Building video /content/videos/rl-video-episode-80.mp4.\n",
            "Moviepy - Writing video /content/videos/rl-video-episode-80.mp4\n",
            "\n"
          ]
        },
        {
          "output_type": "stream",
          "name": "stderr",
          "text": []
        },
        {
          "output_type": "stream",
          "name": "stdout",
          "text": [
            "Moviepy - Done !\n",
            "Moviepy - video ready /content/videos/rl-video-episode-80.mp4\n",
            "Moviepy - Building video /content/videos/rl-video-episode-81.mp4.\n",
            "Moviepy - Writing video /content/videos/rl-video-episode-81.mp4\n",
            "\n"
          ]
        },
        {
          "output_type": "stream",
          "name": "stderr",
          "text": []
        },
        {
          "output_type": "stream",
          "name": "stdout",
          "text": [
            "Moviepy - Done !\n",
            "Moviepy - video ready /content/videos/rl-video-episode-81.mp4\n",
            "Moviepy - Building video /content/videos/rl-video-episode-82.mp4.\n",
            "Moviepy - Writing video /content/videos/rl-video-episode-82.mp4\n",
            "\n"
          ]
        },
        {
          "output_type": "stream",
          "name": "stderr",
          "text": []
        },
        {
          "output_type": "stream",
          "name": "stdout",
          "text": [
            "Moviepy - Done !\n",
            "Moviepy - video ready /content/videos/rl-video-episode-82.mp4\n",
            "Moviepy - Building video /content/videos/rl-video-episode-83.mp4.\n",
            "Moviepy - Writing video /content/videos/rl-video-episode-83.mp4\n",
            "\n"
          ]
        },
        {
          "output_type": "stream",
          "name": "stderr",
          "text": []
        },
        {
          "output_type": "stream",
          "name": "stdout",
          "text": [
            "Moviepy - Done !\n",
            "Moviepy - video ready /content/videos/rl-video-episode-83.mp4\n",
            "Moviepy - Building video /content/videos/rl-video-episode-84.mp4.\n",
            "Moviepy - Writing video /content/videos/rl-video-episode-84.mp4\n",
            "\n"
          ]
        },
        {
          "output_type": "stream",
          "name": "stderr",
          "text": []
        },
        {
          "output_type": "stream",
          "name": "stdout",
          "text": [
            "Moviepy - Done !\n",
            "Moviepy - video ready /content/videos/rl-video-episode-84.mp4\n",
            "Moviepy - Building video /content/videos/rl-video-episode-85.mp4.\n",
            "Moviepy - Writing video /content/videos/rl-video-episode-85.mp4\n",
            "\n"
          ]
        },
        {
          "output_type": "stream",
          "name": "stderr",
          "text": []
        },
        {
          "output_type": "stream",
          "name": "stdout",
          "text": [
            "Moviepy - Done !\n",
            "Moviepy - video ready /content/videos/rl-video-episode-85.mp4\n",
            "Moviepy - Building video /content/videos/rl-video-episode-86.mp4.\n",
            "Moviepy - Writing video /content/videos/rl-video-episode-86.mp4\n",
            "\n"
          ]
        },
        {
          "output_type": "stream",
          "name": "stderr",
          "text": []
        },
        {
          "output_type": "stream",
          "name": "stdout",
          "text": [
            "Moviepy - Done !\n",
            "Moviepy - video ready /content/videos/rl-video-episode-86.mp4\n",
            "Moviepy - Building video /content/videos/rl-video-episode-87.mp4.\n",
            "Moviepy - Writing video /content/videos/rl-video-episode-87.mp4\n",
            "\n"
          ]
        },
        {
          "output_type": "stream",
          "name": "stderr",
          "text": []
        },
        {
          "output_type": "stream",
          "name": "stdout",
          "text": [
            "Moviepy - Done !\n",
            "Moviepy - video ready /content/videos/rl-video-episode-87.mp4\n",
            "Moviepy - Building video /content/videos/rl-video-episode-88.mp4.\n",
            "Moviepy - Writing video /content/videos/rl-video-episode-88.mp4\n",
            "\n"
          ]
        },
        {
          "output_type": "stream",
          "name": "stderr",
          "text": []
        },
        {
          "output_type": "stream",
          "name": "stdout",
          "text": [
            "Moviepy - Done !\n",
            "Moviepy - video ready /content/videos/rl-video-episode-88.mp4\n",
            "Moviepy - Building video /content/videos/rl-video-episode-89.mp4.\n",
            "Moviepy - Writing video /content/videos/rl-video-episode-89.mp4\n",
            "\n"
          ]
        },
        {
          "output_type": "stream",
          "name": "stderr",
          "text": []
        },
        {
          "output_type": "stream",
          "name": "stdout",
          "text": [
            "Moviepy - Done !\n",
            "Moviepy - video ready /content/videos/rl-video-episode-89.mp4\n",
            "Moviepy - Building video /content/videos/rl-video-episode-90.mp4.\n",
            "Moviepy - Writing video /content/videos/rl-video-episode-90.mp4\n",
            "\n"
          ]
        },
        {
          "output_type": "stream",
          "name": "stderr",
          "text": []
        },
        {
          "output_type": "stream",
          "name": "stdout",
          "text": [
            "Moviepy - Done !\n",
            "Moviepy - video ready /content/videos/rl-video-episode-90.mp4\n",
            "Moviepy - Building video /content/videos/rl-video-episode-91.mp4.\n",
            "Moviepy - Writing video /content/videos/rl-video-episode-91.mp4\n",
            "\n"
          ]
        },
        {
          "output_type": "stream",
          "name": "stderr",
          "text": []
        },
        {
          "output_type": "stream",
          "name": "stdout",
          "text": [
            "Moviepy - Done !\n",
            "Moviepy - video ready /content/videos/rl-video-episode-91.mp4\n",
            "Moviepy - Building video /content/videos/rl-video-episode-92.mp4.\n",
            "Moviepy - Writing video /content/videos/rl-video-episode-92.mp4\n",
            "\n"
          ]
        },
        {
          "output_type": "stream",
          "name": "stderr",
          "text": []
        },
        {
          "output_type": "stream",
          "name": "stdout",
          "text": [
            "Moviepy - Done !\n",
            "Moviepy - video ready /content/videos/rl-video-episode-92.mp4\n",
            "Moviepy - Building video /content/videos/rl-video-episode-93.mp4.\n",
            "Moviepy - Writing video /content/videos/rl-video-episode-93.mp4\n",
            "\n"
          ]
        },
        {
          "output_type": "stream",
          "name": "stderr",
          "text": []
        },
        {
          "output_type": "stream",
          "name": "stdout",
          "text": [
            "Moviepy - Done !\n",
            "Moviepy - video ready /content/videos/rl-video-episode-93.mp4\n",
            "Moviepy - Building video /content/videos/rl-video-episode-94.mp4.\n",
            "Moviepy - Writing video /content/videos/rl-video-episode-94.mp4\n",
            "\n"
          ]
        },
        {
          "output_type": "stream",
          "name": "stderr",
          "text": []
        },
        {
          "output_type": "stream",
          "name": "stdout",
          "text": [
            "Moviepy - Done !\n",
            "Moviepy - video ready /content/videos/rl-video-episode-94.mp4\n",
            "Moviepy - Building video /content/videos/rl-video-episode-95.mp4.\n",
            "Moviepy - Writing video /content/videos/rl-video-episode-95.mp4\n",
            "\n"
          ]
        },
        {
          "output_type": "stream",
          "name": "stderr",
          "text": []
        },
        {
          "output_type": "stream",
          "name": "stdout",
          "text": [
            "Moviepy - Done !\n",
            "Moviepy - video ready /content/videos/rl-video-episode-95.mp4\n",
            "Moviepy - Building video /content/videos/rl-video-episode-96.mp4.\n",
            "Moviepy - Writing video /content/videos/rl-video-episode-96.mp4\n",
            "\n"
          ]
        },
        {
          "output_type": "stream",
          "name": "stderr",
          "text": []
        },
        {
          "output_type": "stream",
          "name": "stdout",
          "text": [
            "Moviepy - Done !\n",
            "Moviepy - video ready /content/videos/rl-video-episode-96.mp4\n",
            "Moviepy - Building video /content/videos/rl-video-episode-97.mp4.\n",
            "Moviepy - Writing video /content/videos/rl-video-episode-97.mp4\n",
            "\n"
          ]
        },
        {
          "output_type": "stream",
          "name": "stderr",
          "text": []
        },
        {
          "output_type": "stream",
          "name": "stdout",
          "text": [
            "Moviepy - Done !\n",
            "Moviepy - video ready /content/videos/rl-video-episode-97.mp4\n",
            "Moviepy - Building video /content/videos/rl-video-episode-98.mp4.\n",
            "Moviepy - Writing video /content/videos/rl-video-episode-98.mp4\n",
            "\n"
          ]
        },
        {
          "output_type": "stream",
          "name": "stderr",
          "text": []
        },
        {
          "output_type": "stream",
          "name": "stdout",
          "text": [
            "Moviepy - Done !\n",
            "Moviepy - video ready /content/videos/rl-video-episode-98.mp4\n",
            "Moviepy - Building video /content/videos/rl-video-episode-99.mp4.\n",
            "Moviepy - Writing video /content/videos/rl-video-episode-99.mp4\n",
            "\n"
          ]
        },
        {
          "output_type": "stream",
          "name": "stderr",
          "text": []
        },
        {
          "output_type": "stream",
          "name": "stdout",
          "text": [
            "Moviepy - Done !\n",
            "Moviepy - video ready /content/videos/rl-video-episode-99.mp4\n"
          ]
        }
      ]
    }
  ]
}
